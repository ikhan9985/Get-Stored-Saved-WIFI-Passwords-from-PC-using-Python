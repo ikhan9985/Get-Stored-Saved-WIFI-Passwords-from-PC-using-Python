{
 "cells": [
  {
   "cell_type": "code",
   "execution_count": null,
   "metadata": {},
   "outputs": [
    {
     "name": "stdout",
     "output_type": "stream",
     "text": [
      "PTCl-Adnan                    |  malikadnan12345\n",
      "eduroam                       |  \n",
      "Connected                     |  shereen2019\n",
      "Connected, Secured            |  shereen2019\n",
      "iPhone                        |  arshadirfan\n",
      "Zong                          |  suhanaxan\n",
      "Adii iphone                   |  11111111\n",
      "PTCL_BB                       |  12345678@\n",
      "Muhammad's iPhone             |  ENCODING ERROR\n",
      "GTS                           |  gtsnawaz\n"
     ]
    }
   ],
   "source": [
    "import subprocess\n",
    "\n",
    "data = subprocess.check_output(['netsh', 'wlan', 'show', 'profiles']).decode('utf-8', errors=\"backslashreplace\").split('\\n')\n",
    "profiles = [i.split(\":\")[1][1:-1] for i in data if \"All User Profile\" in i]\n",
    "for i in profiles:\n",
    "    try:\n",
    "        results = subprocess.check_output(['netsh', 'wlan', 'show', 'profile', i, 'key=clear']).decode('utf-8', errors=\"backslashreplace\").split('\\n')\n",
    "        results = [b.split(\":\")[1][1:-1] for b in results if \"Key Content\" in b]\n",
    "        try:\n",
    "            print (\"{:<30}|  {:<}\".format(i, results[0]))\n",
    "        except IndexError:\n",
    "            print (\"{:<30}|  {:<}\".format(i, \"\"))\n",
    "    except subprocess.CalledProcessError:\n",
    "        print (\"{:<30}|  {:<}\".format(i, \"ENCODING ERROR\"))\n",
    "        \n",
    "input(\"\")\n",
    "\n"
   ]
  },
  {
   "cell_type": "code",
   "execution_count": null,
   "metadata": {},
   "outputs": [],
   "source": []
  }
 ],
 "metadata": {
  "kernelspec": {
   "display_name": "Python 3",
   "language": "python",
   "name": "python3"
  },
  "language_info": {
   "codemirror_mode": {
    "name": "ipython",
    "version": 3
   },
   "file_extension": ".py",
   "mimetype": "text/x-python",
   "name": "python",
   "nbconvert_exporter": "python",
   "pygments_lexer": "ipython3",
   "version": "3.7.4"
  }
 },
 "nbformat": 4,
 "nbformat_minor": 2
}
